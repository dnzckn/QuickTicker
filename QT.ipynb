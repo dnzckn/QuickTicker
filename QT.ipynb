{
 "cells": [
  {
   "cell_type": "code",
   "execution_count": 14,
   "metadata": {},
   "outputs": [],
   "source": [
    "import asyncio\n",
    "from selenium import webdriver\n",
    "from selenium.webdriver.common.by import By\n",
    "from selenium.webdriver.chrome.options import Options\n",
    "import requests\n",
    "\n",
    "\n",
    "def get_chrome_options():\n",
    "    chrome_options = Options()\n",
    "    chrome_options.add_argument(\"--headless\")\n",
    "    chrome_options.add_argument(\"--disable-gpu\") # Disable GPU acceleration\n",
    "    chrome_options.add_argument(\"--window-size=1920x1080\") # Set a default window size\n",
    "    chrome_options.add_argument(\"--no-sandbox\") # Bypass sandbox security\n",
    "    chrome_options.add_argument(\"--user-agent='Mozilla/5.0 (Macintosh; Intel Mac OS X 10_15_5) AppleWebKit/537.36 (KHTML, like Gecko) Chrome/83.0.4103.97 Safari/537.36'\") # Set a user-agent\n",
    "    return chrome_options\n",
    "\n",
    "def get_temperature():\n",
    "    driver = webdriver.Chrome(options=get_chrome_options())\n",
    "    url = 'https://weather.com/weather/tenday/l/San+Diego+CA?canonicalCityId=cb5c473781cc06501376639dce8f0823a99187dcb42c79471a4303c076d66452'\n",
    "    driver.get(url)\n",
    "    temperature_element = driver.find_element(By.CSS_SELECTOR, 'span.DailyContent--temp--1s3a7')\n",
    "    temperature = temperature_element.text\n",
    "    driver.quit()\n",
    "    return temperature\n",
    "\n",
    "# Exapmle of using the requests library to get the temperature via the OpenWeatherMap API\n",
    "def get_temperature_via_api(lat, lon, api_key):\n",
    "    url = f\"https://api.openweathermap.org/data/2.5/weather?lat={lat}&lon={lon}&appid={api_key}\"\n",
    "    response = requests.get(url)\n",
    "    weather_data = response.json()\n",
    "    temperature_kelvin = weather_data['main']['temp'] # Accessing the temperature from the 'main' key\n",
    "    temperature_celsius = temperature_kelvin - 273.15 # Convert from Kelvin to Celsius\n",
    "    temperature_fahrenheit = temperature_celsius * 9/5 + 32 # Convert from Celsius to Fahrenheit\n",
    "    return temperature_fahrenheit\n",
    "\n",
    "def get_stock_price():\n",
    "    driver = webdriver.Chrome(options=get_chrome_options())\n",
    "    url = 'https://finance.yahoo.com/quote/AAPL/'\n",
    "    driver.get(url)\n",
    "    stock_price_element = driver.find_element(By.CSS_SELECTOR, 'fin-streamer[data-symbol=\"AAPL\"]')\n",
    "    stock_price = stock_price_element.get_attribute('value')\n",
    "    driver.quit()\n",
    "    return stock_price\n",
    "\n",
    "def get_current_time():\n",
    "    driver = webdriver.Chrome(options=get_chrome_options())\n",
    "    url = 'https://www.timeanddate.com/worldclock/usa/los-angeles'\n",
    "    driver.get(url)\n",
    "    time_element = driver.find_element(By.ID, 'ct')\n",
    "    current_time = time_element.text\n",
    "    driver.quit()\n",
    "    return current_time\n",
    "\n",
    "async def main():\n",
    "    loop = asyncio.get_event_loop()\n",
    "    temperature = await loop.run_in_executor(None, get_temperature)\n",
    "    stock_price = await loop.run_in_executor(None, get_stock_price)\n",
    "    print(\"Temperature:\", temperature)\n",
    "    print(\"Apple Stock Price:\", stock_price)\n",
    "\n",
    "async def run_async(api_key):\n",
    "    while True: # Run the loop indefinitely\n",
    "        loop = asyncio.get_event_loop()\n",
    "        # temperature = await loop.run_in_executor(None, get_temperature_via_api, 32.71, 117.16, api_key) #add in real api key\n",
    "        temperature = await loop.run_in_executor(None, get_temperature)\n",
    "        stock_price = await loop.run_in_executor(None, get_stock_price)\n",
    "        current_time = await loop.run_in_executor(None, get_current_time)\n",
    "        print(f\"Time: {current_time} | Temperature: {round(float(temperature.split('°')[0]),2)}°F | Apple Stock Price: {stock_price}\")\n",
    "        # print(f\"Time: {current_time} | Temperature: {round(float(temperature),2)}°F | Apple Stock Price: {stock_price}\")\n",
    "\n",
    "        await asyncio.sleep(60) # Wait for 60 seconds before the next iteration\n"
   ]
  },
  {
   "cell_type": "code",
   "execution_count": 15,
   "metadata": {},
   "outputs": [
    {
     "name": "stdout",
     "output_type": "stream",
     "text": [
      "Time: 5:28:17 am | Temperature: 77.0°F | Apple Stock Price: 177.79\n",
      "Time: 5:30:12 am | Temperature: 77.0°F | Apple Stock Price: 177.79\n"
     ]
    }
   ],
   "source": [
    "await run_async(None)"
   ]
  },
  {
   "cell_type": "code",
   "execution_count": null,
   "metadata": {},
   "outputs": [],
   "source": []
  },
  {
   "cell_type": "code",
   "execution_count": null,
   "metadata": {},
   "outputs": [],
   "source": []
  }
 ],
 "metadata": {
  "kernelspec": {
   "display_name": "ds310",
   "language": "python",
   "name": "python3"
  },
  "language_info": {
   "codemirror_mode": {
    "name": "ipython",
    "version": 3
   },
   "file_extension": ".py",
   "mimetype": "text/x-python",
   "name": "python",
   "nbconvert_exporter": "python",
   "pygments_lexer": "ipython3",
   "version": "3.10.11"
  },
  "orig_nbformat": 4
 },
 "nbformat": 4,
 "nbformat_minor": 2
}
